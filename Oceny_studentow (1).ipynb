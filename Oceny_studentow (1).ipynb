{
 "cells": [
  {
   "cell_type": "code",
   "execution_count": 2,
   "id": "2ec07094",
   "metadata": {
    "scrolled": true
   },
   "outputs": [
    {
     "name": "stdout",
     "output_type": "stream",
     "text": [
      "     Unnamed: 0  indeks_studenta  ocena_lab  ocena_wyk\n",
      "0             0           962560        5.0        3.0\n",
      "1             1           905220        2.0        4.5\n",
      "2             2           882698        2.0        3.5\n",
      "3             3           856084        3.5        2.5\n",
      "4             4           909337        4.0        5.0\n",
      "..          ...              ...        ...        ...\n",
      "493         493           909272        5.0        3.5\n",
      "494         494           860148        4.0        2.0\n",
      "495         495           919541        2.0        4.0\n",
      "496         496           915447        4.5        4.0\n",
      "497         497           905212        4.0        5.0\n",
      "\n",
      "[498 rows x 4 columns]\n"
     ]
    }
   ],
   "source": [
    "import numpy as np\n",
    "import matplotlib.pyplot as plt\n",
    "import pandas as pd\n",
    "    \n",
    "data = pd.read_csv('oceny_studentow.csv')\n",
    "print(data)"
   ]
  },
  {
   "cell_type": "code",
   "execution_count": 4,
   "id": "45e5510e",
   "metadata": {
    "scrolled": true
   },
   "outputs": [
    {
     "name": "stdout",
     "output_type": "stream",
     "text": [
      "     Unnamed: 0  indeks_studenta  ocena_lab  ocena_wyk  ocena_kon\n",
      "0             0           962560        5.0        3.0        4.0\n",
      "1             1           905220        2.0        4.5        2.0\n",
      "2             2           882698        2.0        3.5        2.0\n",
      "3             3           856084        3.5        2.5        3.0\n",
      "4             4           909337        4.0        5.0        5.0\n",
      "..          ...              ...        ...        ...        ...\n",
      "493         493           909272        5.0        3.5        4.0\n",
      "494         494           860148        4.0        2.0        2.0\n",
      "495         495           919541        2.0        4.0        2.0\n",
      "496         496           915447        4.5        4.0        4.0\n",
      "497         497           905212        4.0        5.0        5.0\n",
      "\n",
      "[498 rows x 5 columns]\n"
     ]
    }
   ],
   "source": [
    "data['ocena_kon'] = (data.ocena_lab*0.4)+(data.ocena_wyk*0.6)\n",
    "\n",
    "roznica = (data['ocena_kon'] - data['ocena_kon'].apply(np.floor))\n",
    "data.loc[data[ 'ocena_lab'] == 2.0, 'ocena_kon'] = 2.0\n",
    "data.loc[data[ 'ocena_wyk'] == 2.0, 'ocena_kon'] = 2.0\n",
    "data.loc[roznica > 0.5, 'ocena_kon'] = data['ocena_kon'].apply(np.ceil)\n",
    "data.loc[roznica < 0.5, 'ocena_kon'] = data['ocena_kon'].apply(np.floor)\n",
    "print(data)"
   ]
  },
  {
   "cell_type": "code",
   "execution_count": 9,
   "id": "b49c153d",
   "metadata": {
    "scrolled": true
   },
   "outputs": [
    {
     "name": "stdout",
     "output_type": "stream",
     "text": [
      "               2.0   3.0   3.5   4.0   4.5   5.0  średnia ocen  \\\n",
      "wykłady       78.0  65.0  69.0  78.0  63.0  69.0      3.459839   \n",
      "laboratoria  129.0  75.0  87.0  72.0  68.0  67.0      3.446787   \n",
      "\n",
      "            średnia końcowa zaliczenie uzyskało zaliczenia nie uzyskało  \n",
      "wykłady             3.13755               311.0                   187.0  \n",
      "laboratoria                                                              \n"
     ]
    }
   ],
   "source": [
    "idx = ['2.0', '3.0', '3.5', '4.0', '4.5', '5.0', 'średnia ocen', 'średnia końcowa', 'zaliczenie uzyskało', 'zaliczenia nie uzyskało']\n",
    "    \n",
    "nie_zaliczone = data[data['ocena_kon'] == 2.0]['ocena_kon'].count()\n",
    "zaliczone = data[data['ocena_kon'] >= 3.0]['ocena_kon'].count()\n",
    "    \n",
    "count_lab_2_0 = data[ data['ocena_lab'] == 2.0]['ocena_lab'].count()\n",
    "count_lab_3_0 = data[ data['ocena_lab'] == 3.0]['ocena_lab'].count()\n",
    "count_lab_3_5 = data[ data['ocena_lab'] == 3.5]['ocena_lab'].count()\n",
    "count_lab_4_0 = data[ data['ocena_lab'] == 4.0]['ocena_lab'].count()\n",
    "count_lab_4_5 = data[ data['ocena_lab'] == 4.5]['ocena_lab'].count()\n",
    "count_lab_5_0 = data[ data['ocena_lab'] == 5.0]['ocena_lab'].count()\n",
    "   \n",
    "count_wyk_2_0 = data[ data['ocena_wyk'] == 2.0]['ocena_wyk'].count()\n",
    "count_wyk_3_0 = data[ data['ocena_wyk'] == 3.0]['ocena_wyk'].count()\n",
    "count_wyk_3_5 = data[ data['ocena_wyk'] == 3.5]['ocena_wyk'].count()\n",
    "count_wyk_4_0 = data[ data['ocena_wyk'] == 4.0]['ocena_wyk'].count()\n",
    "count_wyk_4_5 = data[ data['ocena_wyk'] == 4.5]['ocena_wyk'].count()\n",
    "count_wyk_5_0 = data[ data['ocena_wyk'] == 5.0]['ocena_wyk'].count()\n",
    "    \n",
    "wyk = pd.Series([count_wyk_2_0, count_wyk_3_0, count_wyk_3_5, count_wyk_4_0, count_wyk_4_5, count_wyk_5_0, data['ocena_wyk'].mean(), data['ocena_kon'].mean(), zaliczone, nie_zaliczone], index=idx)\n",
    "    \n",
    "lab = pd.Series([count_lab_2_0, count_lab_3_0, count_lab_3_5, count_lab_4_0, count_lab_4_5, count_lab_5_0, data['ocena_lab'].mean(), '', '', ''], index = idx)\n",
    "    \n",
    "finalData = pd.DataFrame([wyk, lab],index=['wykłady','laboratoria'])\n",
    "    \n",
    "print(finalData)\n",
    "    \n",
    "finalData.to_csv('Podsumowanie.csv')"
   ]
  },
  {
   "cell_type": "code",
   "execution_count": 26,
   "id": "e9604afd",
   "metadata": {},
   "outputs": [
    {
     "data": {
      "image/png": "[encoded data removed]",
      "text/plain": [
       "<Figure size 864x504 with 1 Axes>"
      ]
     },
     "metadata": {
      "needs_background": "light"
     },
     "output_type": "display_data"
    }
   ],
   "source": [
    "y_lab = np.array([count_lab_2_0, count_lab_3_0, count_lab_3_5, count_lab_4_0, count_lab_4_5, count_lab_5_0])\n",
    "x_lab = np.arange(len(y_lab))\n",
    "\n",
    "y_wyk = [count_wyk_2_0, count_wyk_3_0, count_wyk_3_5, count_wyk_4_0, count_wyk_4_5, count_wyk_5_0]\n",
    "x_wyk = np.arange(len(y_lab))\n",
    "\n",
    "plt.figure(figsize = (12, 7))\n",
    "\n",
    "plt.title('Liczba ocen z wykładu i laboratorium')\n",
    "\n",
    "plt.bar(x_lab, y_lab, label = 'Oceny z laboratorium', width = 0.4)\n",
    "plt.bar(x_wyk, y_wyk, label = 'Oceny z wykładu', width = 0.4, align = 'edge')\n",
    "\n",
    "plt.xticks(x_lab, [ 2.0, 3.0, 3.5, 4.0, 4.5, 5.0 ])\n",
    "plt.yticks(np.arange(0, 150, 15))\n",
    "\n",
    "plt.xlabel('Oceny', labelpad = 25)\n",
    "plt.ylabel('Liczba osób', labelpad = 25)\n",
    "\n",
    "plt.legend()\n",
    "\n",
    "plt.grid(axis = 'y')\n",
    "\n",
    "plt.show()"
   ]
  },
  {
   "cell_type": "code",
   "execution_count": null,
   "id": "f4c0808a",
   "metadata": {},
   "outputs": [],
   "source": []
  }
 ],
 "metadata": {
  "kernelspec": {
   "display_name": "Python 3 (ipykernel)",
   "language": "python",
   "name": "python3"
  },
  "language_info": {
   "codemirror_mode": {
    "name": "ipython",
    "version": 3
   },
   "file_extension": ".py",
   "mimetype": "text/x-python",
   "name": "python",
   "nbconvert_exporter": "python",
   "pygments_lexer": "ipython3",
   "version": "3.9.7"
  }
 },
 "nbformat": 4,
 "nbformat_minor": 5
}
